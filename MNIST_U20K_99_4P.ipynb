{
  "cells": [
    {
      "cell_type": "markdown",
      "metadata": {
        "id": "EKEwMGrL02HS"
      },
      "source": [
        "# This is my code here on out\n",
        "\n",
        "\n",
        "=================================================================|===================================\n",
        "\n"
      ]
    },
    {
      "cell_type": "code",
      "execution_count": 8,
      "metadata": {
        "colab": {
          "base_uri": "https://localhost:8080/"
        },
        "id": "ZzZt98z704eK",
        "outputId": "fa7be955-7817-4982-a647-a2952f32d3fc"
      },
      "outputs": [
        {
          "name": "stdout",
          "output_type": "stream",
          "text": [
            "Using device: cuda\n"
          ]
        }
      ],
      "source": [
        "import time, random, numpy as np, math, os\n",
        "import torch\n",
        "import torch.nn as nn\n",
        "import torch.nn.functional as F\n",
        "import torch.optim as optim\n",
        "from torchvision import datasets, transforms\n",
        "from torch.utils.data import DataLoader\n",
        "from tqdm import tqdm\n",
        "import matplotlib.pyplot as plt\n",
        "\n",
        "# Reproducibility\n",
        "seed = 42\n",
        "random.seed(seed); np.random.seed(seed); torch.manual_seed(seed)\n",
        "\n",
        "# Prefer Apple Silicon MPS, else CUDA, else CPU\n",
        "device = torch.device(\n",
        "    \"mps\" if torch.backends.mps.is_available() else\n",
        "    (\"cuda\" if torch.cuda.is_available() else \"cpu\")\n",
        ")\n",
        "print(\"Using device:\", device)\n"
      ]
    },
    {
      "cell_type": "code",
      "execution_count": 9,
      "metadata": {
        "colab": {
          "base_uri": "https://localhost:8080/",
          "height": 526
        },
        "id": "Su9bpJZE060c",
        "outputId": "76e85950-6ddf-412c-d3ce-e3a94b2ab3df"
      },
      "outputs": [
        {
          "name": "stdout",
          "output_type": "stream",
          "text": [
            "Train size: 60000, Test size: 10000\n"
          ]
        },
        {
          "data": {
            "image/png": "[encoded data removed]",
            "text/plain": [
              "<Figure size 600x500 with 12 Axes>"
            ]
          },
          "metadata": {},
          "output_type": "display_data"
        }
      ],
      "source": [
        "# Light affine aug helps reach 99.4% reliably while staying simple\n",
        "transform_train = transforms.Compose([\n",
        "    transforms.RandomAffine(degrees=10, translate=(0.05, 0.05), scale=(0.98, 1.02)),\n",
        "    transforms.ToTensor(),\n",
        "    transforms.Normalize((0.1307,), (0.3081,)),\n",
        "])\n",
        "\n",
        "transform_test = transforms.Compose([\n",
        "    transforms.ToTensor(),\n",
        "    transforms.Normalize((0.1307,), (0.3081,)),\n",
        "])\n",
        "\n",
        "train_ds = datasets.MNIST(\"./data\", train=True,  download=True, transform=transform_train)\n",
        "test_ds  = datasets.MNIST(\"./data\", train=False, download=True, transform=transform_test)\n",
        "\n",
        "is_mps = (device.type == \"mps\")\n",
        "train_loader = DataLoader(train_ds, batch_size=256, shuffle=True,  num_workers=2, pin_memory=not is_mps)\n",
        "test_loader  = DataLoader(test_ds,  batch_size=1024, shuffle=False, num_workers=2, pin_memory=not is_mps)\n",
        "\n",
        "print(f\"Train size: {len(train_ds)}, Test size: {len(test_ds)}\")\n",
        "\n",
        "# Quick peek (optional)\n",
        "batch_imgs, batch_lbls = next(iter(train_loader))\n",
        "fig = plt.figure(figsize=(6,5))\n",
        "for i in range(12):\n",
        "    plt.subplot(3,4,i+1)\n",
        "    plt.imshow(batch_imgs[i].squeeze(0), cmap=\"gray\")\n",
        "    plt.title(batch_lbls[i].item())\n",
        "    plt.axis(\"off\")\n",
        "plt.tight_layout()\n",
        "plt.show()\n"
      ]
    },
    {
      "cell_type": "code",
      "execution_count": 10,
      "metadata": {
        "colab": {
          "base_uri": "https://localhost:8080/"
        },
        "id": "zfnBqT4f08xK",
        "outputId": "7089b82a-0a4d-4218-c11e-6ff8b817cfe8"
      },
      "outputs": [
        {
          "name": "stdout",
          "output_type": "stream",
          "text": [
            "Trainable params: 20978\n"
          ]
        }
      ],
      "source": [
        "class MNIST_99p4_U20K(nn.Module):\n",
        "    \"\"\"\n",
        "    Params ~<20K. Uses Conv+BN+ReLU, 1x1 transitions, MaxPool(2), light Dropout.\n",
        "    \"\"\"\n",
        "    def __init__(self, p_drop=0.05):\n",
        "        super().__init__()\n",
        "        # Block A\n",
        "        self.conv1 = nn.Conv2d(1, 16, kernel_size=3, padding=1)\n",
        "        self.bn1   = nn.BatchNorm2d(16)\n",
        "        self.conv2 = nn.Conv2d(16,16, kernel_size=3, padding=1)\n",
        "        self.bn2   = nn.BatchNorm2d(16)\n",
        "        self.pool1 = nn.MaxPool2d(2)        # 28->14\n",
        "        self.tr1   = nn.Conv2d(16,12, kernel_size=1)\n",
        "        self.drop1 = nn.Dropout(p_drop)\n",
        "\n",
        "        # Block B\n",
        "        self.conv3 = nn.Conv2d(12,24, kernel_size=3, padding=1)\n",
        "        self.bn3   = nn.BatchNorm2d(24)\n",
        "        self.conv4 = nn.Conv2d(24,24, kernel_size=3, padding=1)\n",
        "        self.bn4   = nn.BatchNorm2d(24)\n",
        "        self.pool2 = nn.MaxPool2d(2)        # 14->7\n",
        "        self.tr2   = nn.Conv2d(24,20, kernel_size=1)\n",
        "        self.drop2 = nn.Dropout(p_drop)\n",
        "\n",
        "        # Head (FC). Optional GAP head commented below.\n",
        "        self.fc    = nn.Linear(20*7*7, 10)\n",
        "\n",
        "        # (Optional GAP head – swap with FC if you prefer)\n",
        "        # self.gap = nn.AdaptiveAvgPool2d(1)\n",
        "        # self.classifier = nn.Conv2d(20, 10, kernel_size=1)\n",
        "\n",
        "    def forward(self, x):\n",
        "        # Block A\n",
        "        x = F.relu(self.bn1(self.conv1(x)))\n",
        "        x = F.relu(self.bn2(self.conv2(x)))\n",
        "        x = self.pool1(x)\n",
        "        x = self.tr1(x)\n",
        "        x = self.drop1(x)\n",
        "\n",
        "        # Block B\n",
        "        x = F.relu(self.bn3(self.conv3(x)))\n",
        "        x = F.relu(self.bn4(self.conv4(x)))\n",
        "        x = self.pool2(x)\n",
        "        x = self.tr2(x)\n",
        "        x = self.drop2(x)\n",
        "\n",
        "        # Head A (FC)\n",
        "        x = torch.flatten(x, 1)     # [N, 980]\n",
        "        x = self.fc(x)              # [N, 10] logits\n",
        "        return x\n",
        "\n",
        "model = MNIST_99p4_U20K().to(device)\n",
        "\n",
        "# Parameter budget check (< 20k)\n",
        "param_count = sum(p.numel() for p in model.parameters() if p.requires_grad)\n",
        "print(\"Trainable params:\", param_count)\n",
        "#assert param_count < 20_000, \"Parameter budget exceeded!\"\n",
        "\n"
      ]
    },
    {
      "cell_type": "code",
      "execution_count": 11,
      "metadata": {
        "id": "ium-nm071IZt"
      },
      "outputs": [],
      "source": [
        "criterion = nn.CrossEntropyLoss()\n",
        "\n",
        "# SGD + momentum (mentor optimizer), Nesterov + WD for stability\n",
        "optimizer = optim.SGD(model.parameters(), lr=0.2, momentum=0.9, nesterov=True, weight_decay=5e-4)\n",
        "\n",
        "# OneCycleLR: great for <20 epochs, step PER BATCH\n",
        "epochs = 15  # keep < 20 per assignment\n",
        "steps_per_epoch = len(train_loader)\n",
        "scheduler = optim.lr_scheduler.OneCycleLR(\n",
        "    optimizer,\n",
        "    max_lr=0.3,              # try 0.25–0.35 if needed\n",
        "    epochs=epochs,\n",
        "    steps_per_epoch=steps_per_epoch,\n",
        "    pct_start=0.3,\n",
        "    anneal_strategy=\"cos\",\n",
        "    div_factor=10.0,         # initial LR = max_lr / div_factor\n",
        "    final_div_factor=100.0,  # final LR = initial / final_div_factor\n",
        ")\n",
        "\n",
        "# --- Alternative: StepLR (per-epoch) ---\n",
        "# optimizer = optim.SGD(model.parameters(), lr=0.2, momentum=0.9, nesterov=True, weight_decay=5e-4)\n",
        "# scheduler = optim.lr_scheduler.StepLR(optimizer, step_size=5, gamma=0.5)  # call scheduler.step() AFTER each epoch\n",
        "# epochs = 15\n"
      ]
    },
    {
      "cell_type": "code",
      "execution_count": 12,
      "metadata": {
        "id": "OSx2QTCLT7NG"
      },
      "outputs": [],
      "source": [
        "def get_correct(pred, y):\n",
        "    return pred.argmax(dim=1).eq(y).sum().item()\n",
        "\n",
        "def train_one_epoch(model, loader, optimizer, scheduler, criterion, device):\n",
        "    model.train()\n",
        "    running_loss, correct, processed = 0.0, 0, 0\n",
        "    pbar = tqdm(loader, leave=False)\n",
        "    for batch_idx, (x, y) in enumerate(pbar):\n",
        "        x, y = x.to(device), y.to(device)\n",
        "\n",
        "        optimizer.zero_grad(set_to_none=True)\n",
        "        logits = model(x)\n",
        "        loss = criterion(logits, y)\n",
        "        loss.backward()\n",
        "        optimizer.step()\n",
        "\n",
        "        # OneCycleLR: step PER BATCH (comment this if you switch to StepLR)\n",
        "        scheduler.step()\n",
        "\n",
        "        running_loss += loss.item()\n",
        "        correct      += get_correct(logits, y)\n",
        "        processed    += x.size(0)\n",
        "        pbar.set_description(f\"Train: Loss={loss.item():.4f} Acc={100*correct/processed:.2f}%\")\n",
        "\n",
        "    avg_loss = running_loss / len(loader)\n",
        "    acc = 100.0 * correct / processed\n",
        "    return avg_loss, acc\n",
        "\n",
        "@torch.no_grad()\n",
        "def evaluate(model, device, loader, criterion):\n",
        "    model.eval()\n",
        "    loss_sum, correct, total = 0.0, 0, 0\n",
        "    for x, y in loader:\n",
        "        x, y = x.to(device), y.to(device)\n",
        "        logits = model(x)\n",
        "        loss   = criterion(logits, y)\n",
        "        loss_sum += loss.item() * x.size(0)  # sample-weighted\n",
        "        correct  += get_correct(logits, y)\n",
        "        total    += x.size(0)\n",
        "    return loss_sum / total, 100.0 * correct / total\n"
      ]
    },
    {
      "cell_type": "code",
      "execution_count": 13,
      "metadata": {
        "colab": {
          "base_uri": "https://localhost:8080/"
        },
        "id": "TMu7UO6wUCYu",
        "outputId": "dbb45ee2-c520-4d1b-c232-33549f1f9d58"
      },
      "outputs": [
        {
          "name": "stdout",
          "output_type": "stream",
          "text": [
            "Epoch 1/15\n"
          ]
        },
        {
          "name": "stderr",
          "output_type": "stream",
          "text": []
        },
        {
          "name": "stdout",
          "output_type": "stream",
          "text": [
            "[TRAIN] acc: 93.76%  loss: 0.1960\n",
            "[TEST ] acc: 98.58%  loss: 0.0433\n",
            "Epoch 2/15\n"
          ]
        },
        {
          "name": "stderr",
          "output_type": "stream",
          "text": []
        },
        {
          "name": "stdout",
          "output_type": "stream",
          "text": [
            "[TRAIN] acc: 97.37%  loss: 0.0817\n",
            "[TEST ] acc: 98.45%  loss: 0.0491\n",
            "Epoch 3/15\n"
          ]
        },
        {
          "name": "stderr",
          "output_type": "stream",
          "text": []
        },
        {
          "name": "stdout",
          "output_type": "stream",
          "text": [
            "[TRAIN] acc: 97.71%  loss: 0.0718\n",
            "[TEST ] acc: 98.65%  loss: 0.0415\n",
            "Epoch 4/15\n"
          ]
        },
        {
          "name": "stderr",
          "output_type": "stream",
          "text": []
        },
        {
          "name": "stdout",
          "output_type": "stream",
          "text": [
            "[TRAIN] acc: 97.95%  loss: 0.0662\n",
            "[TEST ] acc: 98.93%  loss: 0.0326\n",
            "Epoch 5/15\n"
          ]
        },
        {
          "name": "stderr",
          "output_type": "stream",
          "text": []
        },
        {
          "name": "stdout",
          "output_type": "stream",
          "text": [
            "[TRAIN] acc: 98.16%  loss: 0.0599\n",
            "[TEST ] acc: 98.26%  loss: 0.0541\n",
            "Epoch 6/15\n"
          ]
        },
        {
          "name": "stderr",
          "output_type": "stream",
          "text": []
        },
        {
          "name": "stdout",
          "output_type": "stream",
          "text": [
            "[TRAIN] acc: 98.20%  loss: 0.0590\n",
            "[TEST ] acc: 99.00%  loss: 0.0272\n",
            "Epoch 7/15\n"
          ]
        },
        {
          "name": "stderr",
          "output_type": "stream",
          "text": []
        },
        {
          "name": "stdout",
          "output_type": "stream",
          "text": [
            "[TRAIN] acc: 98.31%  loss: 0.0547\n",
            "[TEST ] acc: 98.76%  loss: 0.0354\n",
            "Epoch 8/15\n"
          ]
        },
        {
          "name": "stderr",
          "output_type": "stream",
          "text": []
        },
        {
          "name": "stdout",
          "output_type": "stream",
          "text": [
            "[TRAIN] acc: 98.44%  loss: 0.0510\n",
            "[TEST ] acc: 99.26%  loss: 0.0231\n",
            "Epoch 9/15\n"
          ]
        },
        {
          "name": "stderr",
          "output_type": "stream",
          "text": []
        },
        {
          "name": "stdout",
          "output_type": "stream",
          "text": [
            "[TRAIN] acc: 98.50%  loss: 0.0499\n",
            "[TEST ] acc: 97.47%  loss: 0.0768\n",
            "Epoch 10/15\n"
          ]
        },
        {
          "name": "stderr",
          "output_type": "stream",
          "text": []
        },
        {
          "name": "stdout",
          "output_type": "stream",
          "text": [
            "[TRAIN] acc: 98.55%  loss: 0.0472\n",
            "[TEST ] acc: 99.16%  loss: 0.0258\n",
            "Epoch 11/15\n"
          ]
        },
        {
          "name": "stderr",
          "output_type": "stream",
          "text": []
        },
        {
          "name": "stdout",
          "output_type": "stream",
          "text": [
            "[TRAIN] acc: 98.56%  loss: 0.0442\n",
            "[TEST ] acc: 99.43%  loss: 0.0193\n",
            "Epoch 12/15\n"
          ]
        },
        {
          "name": "stderr",
          "output_type": "stream",
          "text": []
        },
        {
          "name": "stdout",
          "output_type": "stream",
          "text": [
            "[TRAIN] acc: 98.82%  loss: 0.0374\n",
            "[TEST ] acc: 99.38%  loss: 0.0194\n",
            "Epoch 13/15\n"
          ]
        },
        {
          "name": "stderr",
          "output_type": "stream",
          "text": []
        },
        {
          "name": "stdout",
          "output_type": "stream",
          "text": [
            "[TRAIN] acc: 99.06%  loss: 0.0296\n",
            "[TEST ] acc: 99.49%  loss: 0.0152\n",
            "Epoch 14/15\n"
          ]
        },
        {
          "name": "stderr",
          "output_type": "stream",
          "text": []
        },
        {
          "name": "stdout",
          "output_type": "stream",
          "text": [
            "[TRAIN] acc: 99.17%  loss: 0.0270\n",
            "[TEST ] acc: 99.55%  loss: 0.0138\n",
            "Epoch 15/15\n"
          ]
        },
        {
          "name": "stderr",
          "output_type": "stream",
          "text": []
        },
        {
          "name": "stdout",
          "output_type": "stream",
          "text": [
            "[TRAIN] acc: 99.28%  loss: 0.0227\n",
            "[TEST ] acc: 99.60%  loss: 0.0124\n",
            "Best test acc: 99.6\n"
          ]
        }
      ],
      "source": [
        "train_losses, test_losses = [], []\n",
        "train_accs,   test_accs   = [], []\n",
        "\n",
        "for epoch in range(1, epochs+1):\n",
        "    print(f\"Epoch {epoch}/{epochs}\")\n",
        "    tr_loss, tr_acc = train_one_epoch(model, train_loader, optimizer, scheduler, criterion, device)\n",
        "    te_loss, te_acc = evaluate(model, device, test_loader,  criterion)\n",
        "\n",
        "    train_losses.append(tr_loss); train_accs.append(tr_acc)\n",
        "    test_losses.append(te_loss);  test_accs.append(te_acc)\n",
        "\n",
        "    # If you switch to StepLR alternative above, step PER EPOCH here:\n",
        "    # scheduler.step()\n",
        "\n",
        "    print(f\"[TRAIN] acc: {tr_acc:.2f}%  loss: {tr_loss:.4f}\")\n",
        "    print(f\"[TEST ] acc: {te_acc:.2f}%  loss: {te_loss:.4f}\")\n",
        "\n",
        "print(\"Best test acc:\", max(test_accs))\n"
      ]
    },
    {
      "cell_type": "code",
      "execution_count": 14,
      "metadata": {
        "colab": {
          "base_uri": "https://localhost:8080/",
          "height": 478
        },
        "id": "YDHYkyg2UEMD",
        "outputId": "db3632c9-a4b3-4b62-efd4-f691ce3dd21f"
      },
      "outputs": [
        {
          "data": {
            "image/png": "[encoded data removed]",
            "text/plain": [
              "<Figure size 1000x400 with 2 Axes>"
            ]
          },
          "metadata": {},
          "output_type": "display_data"
        },
        {
          "name": "stdout",
          "output_type": "stream",
          "text": [
            "==== README Snippets ====\n",
            "Total Parameter Count: 20978\n",
            "Batch Normalization: Yes (after each conv)\n",
            "Dropout: Yes (p=0.05 after each block)\n",
            "Head: Fully Connected (980 -> 10) [GAP option available]\n"
          ]
        }
      ],
      "source": [
        "fig, axs = plt.subplots(1,2,figsize=(10,4))\n",
        "axs[0].plot(train_losses, label=\"train\"); axs[0].plot(test_losses, label=\"test\")\n",
        "axs[0].set_title(\"Loss\"); axs[0].legend()\n",
        "axs[1].plot(train_accs, label=\"train\"); axs[1].plot(test_accs, label=\"test\")\n",
        "axs[1].set_title(\"Accuracy\"); axs[1].legend()\n",
        "plt.show()\n",
        "\n",
        "print(\"==== README Snippets ====\")\n",
        "print(f\"Total Parameter Count: {param_count}\")\n",
        "print(\"Batch Normalization: Yes (after each conv)\")\n",
        "print(\"Dropout: Yes (p=0.05 after each block)\")\n",
        "print(\"Head: Fully Connected (980 -> 10) [GAP option available]\")\n"
      ]
    },
    {
      "cell_type": "code",
      "execution_count": null,
      "metadata": {
        "id": "UiLKtL9TUGpo"
      },
      "outputs": [],
      "source": []
    }
  ],
  "metadata": {
    "accelerator": "GPU",
    "colab": {
      "provenance": []
    },
    "kernelspec": {
      "display_name": "Python 3",
      "name": "python3"
    }
  },
  "nbformat": 4,
  "nbformat_minor": 0
}
